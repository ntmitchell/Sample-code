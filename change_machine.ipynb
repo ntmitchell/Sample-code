{
 "cells": [
  {
   "cell_type": "code",
   "execution_count": 1,
   "metadata": {
    "collapsed": true
   },
   "outputs": [],
   "source": [
    "from math import floor\n",
    "from random import random  # For testing\n"
   ]
  },
  {
   "cell_type": "markdown",
   "metadata": {},
   "source": [
    "# Making a simple model"
   ]
  },
  {
   "cell_type": "code",
   "execution_count": 2,
   "metadata": {},
   "outputs": [],
   "source": [
    "test_denominations = [100, 50, 20, 10, 5, 1]\n",
    "test_value = 37\n",
    "\n",
    "result_dictionary = dict()\n",
    "for denomination in test_denominations:\n",
    "    denomination_count = floor(test_value / denomination)\n",
    "    if denomination_count > 0:\n",
    "        result_dictionary[denomination] = denomination_count\n",
    "        test_value = test_value - denomination * denomination_count\n"
   ]
  },
  {
   "cell_type": "markdown",
   "metadata": {},
   "source": [
    "# Writing the simple model into a function"
   ]
  },
  {
   "cell_type": "code",
   "execution_count": 3,
   "metadata": {},
   "outputs": [
    {
     "name": "stdout",
     "output_type": "stream",
     "text": [
      "{20: 1, 10: 1, 5: 1, 1: 2}\n",
      "{}\n",
      "{100: 2, 50: 1, 20: 1, 10: 1, 5: 1, 1: 4, 0.25: 2, 0.01: 1}\n",
      "$37: {20: 1, 10: 1, 5: 1, 1: 2} recombines to $37\n",
      "$0: {} recombines to $0\n",
      "$289.52: {100: 2, 50: 1, 20: 1, 10: 1, 5: 1, 1: 4, 0.25: 2, 0.01: 1} recombines to $289.51\n"
     ]
    }
   ],
   "source": [
    "def change_breakdown(cash):\n",
    "    denominations = [100, 50, 20, 10, 5, 1, 0.25, 0.10, 0.01]\n",
    "    result_dictionary = dict()\n",
    "    for denomination in denominations:\n",
    "        denomination_count = floor(cash / denomination)\n",
    "        if denomination_count > 0:\n",
    "            result_dictionary[denomination] = denomination_count\n",
    "            cash = cash - denomination * denomination_count\n",
    "    return result_dictionary\n",
    "\n",
    "# Test a few values\n",
    "test_list = [37, 0, 289.52]\n",
    "for value in test_list:\n",
    "    print(change_breakdown(value))\n",
    "\n",
    "# Write a function for testing that recombines the change\n",
    "def test_output(dictionary):\n",
    "    products_list = [denomination * count for denomination, count in dictionary.items()]\n",
    "    sum_products = sum(products_list)\n",
    "    print(f\"{dictionary} recombines to ${sum_products}\")\n",
    "\n",
    "# Test a few values\n",
    "for value in test_list:\n",
    "    print(f\"${value}: \", end='')\n",
    "    test_output(change_breakdown(value))\n"
   ]
  },
  {
   "cell_type": "markdown",
   "metadata": {},
   "source": [
    "# Making change machine class\n",
    "\n",
    "At this point I used about 30 minutes of the allowed hour, so I made the `change_breakdown` function into a method of a `ChangeMachine` class. This was to improve future expandability (adding new methods) and portability (creating a module)."
   ]
  },
  {
   "cell_type": "code",
   "execution_count": 4,
   "metadata": {},
   "outputs": [],
   "source": [
    "class ChangeMachine:\n",
    "    def __init__(self):\n",
    "        self.denominations = [100, 50, 20, 10, 5, 1, 0.25, 0.10, 0.05, 0.01]\n",
    "        \n",
    "    def _validate_input(self, input_value):\n",
    "        \"\"\"Restricts values to floats and integers.\"\"\"\n",
    "        input_is_float = type(input_value) == float\n",
    "        input_is_int = type(input_value) == int\n",
    "        if input_is_float or input_is_int:\n",
    "            return input_value >= 0\n",
    "        else:\n",
    "            return False\n",
    "    \n",
    "    def add_denomination(self, denomination):\n",
    "        \"\"\"Lets user add less-common denominations like $2 bills and 50-cent coins.\"\"\"\n",
    "        if self._validate_input(denomination) == True:\n",
    "            denomination_set = set(self.denominations)\n",
    "            denomination_set.add(denomination)\n",
    "            new_denomination_list = list(denomination_set)\n",
    "            new_denomination_list = reversed(sorted(new_denomination_list))\n",
    "            self.denominations = list(new_denomination_list)\n",
    "    \n",
    "    def remove_denomination(self, denomination):\n",
    "        if denomination in self.denominations:\n",
    "            self.denominations.remove(denomination)\n",
    "    \n",
    "    def change_breakdown(self, cash):\n",
    "        result_dictionary = dict()\n",
    "        for denomination in self.denominations:\n",
    "            denomination_count = floor(cash / denomination)\n",
    "            if denomination_count > 0:\n",
    "                result_dictionary[denomination] = denomination_count\n",
    "                cash = cash - denomination * denomination_count\n",
    "                cash = round(cash, 2)\n",
    "        return result_dictionary\n",
    "    \n",
    "    def transaction(self, cost=1, cash=1):\n",
    "        if self._validate_input(cost) and self._validate_input(cash):\n",
    "            if cash < cost:\n",
    "                print(\"Not enough money to cover transaction.\")\n",
    "            else:\n",
    "                change = cash - cost\n",
    "                change = round(change, 2)\n",
    "                breakdown = self.change_breakdown(change)\n",
    "                print(\"Change is ${0}. The breakdown is:\".format(change))\n",
    "                for denomination, count in breakdown.items():\n",
    "                    print(\"${0}: {1}\".format(denomination, count))\n",
    "        else:\n",
    "            print(\"Invalid transaction inputs.\")\n"
   ]
  },
  {
   "cell_type": "markdown",
   "metadata": {},
   "source": [
    "# Testing `ChangeMachine`"
   ]
  },
  {
   "cell_type": "code",
   "execution_count": 5,
   "metadata": {},
   "outputs": [
    {
     "name": "stdout",
     "output_type": "stream",
     "text": [
      "Testing with 5 random transactions\n",
      "Paying for $81.17 with $36.38\n",
      "Not enough money to cover transaction.\n",
      "Paying for $18.11 with $45.95\n",
      "Change is $27.84. The breakdown is:\n",
      "$20: 1\n",
      "$5: 1\n",
      "$1: 2\n",
      "$0.25: 3\n",
      "$0.05: 1\n",
      "$0.01: 4\n",
      "Paying for $17.14 with $20.53\n",
      "Change is $3.39. The breakdown is:\n",
      "$1: 3\n",
      "$0.25: 1\n",
      "$0.1: 1\n",
      "$0.01: 4\n",
      "Paying for $11.16 with $36.36\n",
      "Change is $25.2. The breakdown is:\n",
      "$20: 1\n",
      "$5: 1\n",
      "$0.1: 2\n",
      "Paying for $41.38 with $3.63\n",
      "Not enough money to cover transaction.\n",
      "\n",
      "Testing edge cases\n",
      "Change is $1.01. The breakdown is:\n",
      "$1: 1\n",
      "$0.01: 1\n",
      "Change is $1000.01. The breakdown is:\n",
      "$100: 10\n",
      "$0.01: 1\n",
      "Not enough money to cover transaction.\n",
      "Invalid transaction inputs.\n"
     ]
    }
   ],
   "source": [
    "change_machine = ChangeMachine()\n",
    "\n",
    "print(\"Testing with 5 random transactions\")\n",
    "dollarify = lambda value: round(value * 100, 2)\n",
    "for _ in range(5):\n",
    "    test_cost = dollarify(random())\n",
    "    test_cash = dollarify(random())\n",
    "    print(\"Paying for ${0:0.2f} with ${1:0.2f}\".format(test_cost, test_cash))\n",
    "    change_machine.transaction(test_cost, test_cash)\n",
    "\n",
    "\n",
    "print(\"\\nTesting edge cases\")\n",
    "change_machine.transaction(0, 1.01)\n",
    "change_machine.transaction(0, 1000.01)\n",
    "change_machine.transaction(1.01, 0)\n",
    "change_machine.transaction(-1, 0)\n"
   ]
  },
  {
   "cell_type": "code",
   "execution_count": null,
   "metadata": {
    "collapsed": true
   },
   "outputs": [],
   "source": []
  }
 ],
 "metadata": {
  "kernelspec": {
   "display_name": "Python 3",
   "language": "python",
   "name": "python3"
  },
  "language_info": {
   "codemirror_mode": {
    "name": "ipython",
    "version": 3
   },
   "file_extension": ".py",
   "mimetype": "text/x-python",
   "name": "python",
   "nbconvert_exporter": "python",
   "pygments_lexer": "ipython3",
   "version": "3.6.6"
  }
 },
 "nbformat": 4,
 "nbformat_minor": 2
}
